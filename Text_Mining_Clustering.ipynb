{
  "nbformat": 4,
  "nbformat_minor": 0,
  "metadata": {
    "colab": {
      "provenance": [],
      "authorship_tag": "ABX9TyNmYcANIUnjOZDbQ71F170r",
      "include_colab_link": true
    },
    "kernelspec": {
      "name": "python3",
      "display_name": "Python 3"
    },
    "language_info": {
      "name": "python"
    }
  },
  "cells": [
    {
      "cell_type": "markdown",
      "metadata": {
        "id": "view-in-github",
        "colab_type": "text"
      },
      "source": [
        "<a href=\"https://colab.research.google.com/github/AntonioMastroianni/Text_Mining/blob/main/Text_Mining_Clustering.ipynb\" target=\"_parent\"><img src=\"https://colab.research.google.com/assets/colab-badge.svg\" alt=\"Open In Colab\"/></a>"
      ]
    },
    {
      "cell_type": "code",
      "execution_count": 1,
      "metadata": {
        "colab": {
          "base_uri": "https://localhost:8080/"
        },
        "id": "ligltcHd4c6b",
        "outputId": "7789834b-25df-4271-d14b-4706b07a3fe3"
      },
      "outputs": [
        {
          "output_type": "stream",
          "name": "stderr",
          "text": [
            "[nltk_data] Downloading package punkt to /root/nltk_data...\n",
            "[nltk_data]   Package punkt is already up-to-date!\n",
            "[nltk_data] Downloading package stopwords to /root/nltk_data...\n",
            "[nltk_data]   Package stopwords is already up-to-date!\n"
          ]
        }
      ],
      "source": [
        "import pandas as pd\n",
        "import numpy as np\n",
        "import tensorflow as tf\n",
        "import matplotlib.pyplot as plt\n",
        "import seaborn as sns\n",
        "import re\n",
        "import nltk\n",
        "import gzip\n",
        "nltk.download('punkt')\n",
        "nltk.download('stopwords')\n",
        "import string\n",
        "from wordcloud import WordCloud\n",
        "from nltk.corpus import stopwords\n",
        "from nltk.tokenize import word_tokenize\n",
        "from keras.preprocessing.text import Tokenizer\n",
        "from keras.preprocessing.sequence import pad_sequences\n",
        "#from keras.layers.embeddings import Embedding\n",
        "from keras.callbacks import ModelCheckpoint, ReduceLROnPlateau\n",
        "from keras.optimizers import Adam\n",
        "\n",
        "\n",
        "\n",
        "#download(stopwords)\n",
        "\n",
        "%matplotlib inline\n",
        "sns.set_style(\"whitegrid\")\n",
        "plt.style.use(\"fivethirtyeight\")"
      ]
    },
    {
      "cell_type": "code",
      "source": [
        "# import and instantiate CountVectorizer (with the default parameters)\n",
        "from sklearn.feature_extraction.text import CountVectorizer\n",
        "\n",
        "vect = CountVectorizer()"
      ],
      "metadata": {
        "id": "SXCpC33V4eGD"
      },
      "execution_count": 2,
      "outputs": []
    },
    {
      "cell_type": "code",
      "source": [
        "from google.colab import drive\n",
        "drive.mount('/content/gdrive')"
      ],
      "metadata": {
        "colab": {
          "base_uri": "https://localhost:8080/"
        },
        "id": "G6QONUcF4ha1",
        "outputId": "d608774a-7fb8-4aac-dea7-480389c7a5fe"
      },
      "execution_count": 3,
      "outputs": [
        {
          "output_type": "stream",
          "name": "stdout",
          "text": [
            "Drive already mounted at /content/gdrive; to attempt to forcibly remount, call drive.mount(\"/content/gdrive\", force_remount=True).\n"
          ]
        }
      ]
    },
    {
      "cell_type": "code",
      "source": [
        "sms = pd.read_csv(\"/content/gdrive/MyDrive/Materiale Text Mining/spam.csv\", encoding='latin-1')\n",
        "sms.dropna(how=\"any\", inplace=True, axis=1)\n",
        "sms.columns = ['label', 'message']\n",
        "\n",
        "sms.head()"
      ],
      "metadata": {
        "colab": {
          "base_uri": "https://localhost:8080/",
          "height": 206
        },
        "id": "e0WGWTRw4h4e",
        "outputId": "2dff231f-2b2e-4170-c648-c2c92e79bcd6"
      },
      "execution_count": 4,
      "outputs": [
        {
          "output_type": "execute_result",
          "data": {
            "text/plain": [
              "  label                                            message\n",
              "0   ham  Go until jurong point, crazy.. Available only ...\n",
              "1   ham                      Ok lar... Joking wif u oni...\n",
              "2  spam  Free entry in 2 a wkly comp to win FA Cup fina...\n",
              "3   ham  U dun say so early hor... U c already then say...\n",
              "4   ham  Nah I don't think he goes to usf, he lives aro..."
            ],
            "text/html": [
              "\n",
              "  <div id=\"df-47aa9524-e95e-4061-89d8-7dc58fffc4c3\" class=\"colab-df-container\">\n",
              "    <div>\n",
              "<style scoped>\n",
              "    .dataframe tbody tr th:only-of-type {\n",
              "        vertical-align: middle;\n",
              "    }\n",
              "\n",
              "    .dataframe tbody tr th {\n",
              "        vertical-align: top;\n",
              "    }\n",
              "\n",
              "    .dataframe thead th {\n",
              "        text-align: right;\n",
              "    }\n",
              "</style>\n",
              "<table border=\"1\" class=\"dataframe\">\n",
              "  <thead>\n",
              "    <tr style=\"text-align: right;\">\n",
              "      <th></th>\n",
              "      <th>label</th>\n",
              "      <th>message</th>\n",
              "    </tr>\n",
              "  </thead>\n",
              "  <tbody>\n",
              "    <tr>\n",
              "      <th>0</th>\n",
              "      <td>ham</td>\n",
              "      <td>Go until jurong point, crazy.. Available only ...</td>\n",
              "    </tr>\n",
              "    <tr>\n",
              "      <th>1</th>\n",
              "      <td>ham</td>\n",
              "      <td>Ok lar... Joking wif u oni...</td>\n",
              "    </tr>\n",
              "    <tr>\n",
              "      <th>2</th>\n",
              "      <td>spam</td>\n",
              "      <td>Free entry in 2 a wkly comp to win FA Cup fina...</td>\n",
              "    </tr>\n",
              "    <tr>\n",
              "      <th>3</th>\n",
              "      <td>ham</td>\n",
              "      <td>U dun say so early hor... U c already then say...</td>\n",
              "    </tr>\n",
              "    <tr>\n",
              "      <th>4</th>\n",
              "      <td>ham</td>\n",
              "      <td>Nah I don't think he goes to usf, he lives aro...</td>\n",
              "    </tr>\n",
              "  </tbody>\n",
              "</table>\n",
              "</div>\n",
              "    <div class=\"colab-df-buttons\">\n",
              "\n",
              "  <div class=\"colab-df-container\">\n",
              "    <button class=\"colab-df-convert\" onclick=\"convertToInteractive('df-47aa9524-e95e-4061-89d8-7dc58fffc4c3')\"\n",
              "            title=\"Convert this dataframe to an interactive table.\"\n",
              "            style=\"display:none;\">\n",
              "\n",
              "  <svg xmlns=\"http://www.w3.org/2000/svg\" height=\"24px\" viewBox=\"0 -960 960 960\">\n",
              "    <path d=\"M120-120v-720h720v720H120Zm60-500h600v-160H180v160Zm220 220h160v-160H400v160Zm0 220h160v-160H400v160ZM180-400h160v-160H180v160Zm440 0h160v-160H620v160ZM180-180h160v-160H180v160Zm440 0h160v-160H620v160Z\"/>\n",
              "  </svg>\n",
              "    </button>\n",
              "\n",
              "  <style>\n",
              "    .colab-df-container {\n",
              "      display:flex;\n",
              "      gap: 12px;\n",
              "    }\n",
              "\n",
              "    .colab-df-convert {\n",
              "      background-color: #E8F0FE;\n",
              "      border: none;\n",
              "      border-radius: 50%;\n",
              "      cursor: pointer;\n",
              "      display: none;\n",
              "      fill: #1967D2;\n",
              "      height: 32px;\n",
              "      padding: 0 0 0 0;\n",
              "      width: 32px;\n",
              "    }\n",
              "\n",
              "    .colab-df-convert:hover {\n",
              "      background-color: #E2EBFA;\n",
              "      box-shadow: 0px 1px 2px rgba(60, 64, 67, 0.3), 0px 1px 3px 1px rgba(60, 64, 67, 0.15);\n",
              "      fill: #174EA6;\n",
              "    }\n",
              "\n",
              "    .colab-df-buttons div {\n",
              "      margin-bottom: 4px;\n",
              "    }\n",
              "\n",
              "    [theme=dark] .colab-df-convert {\n",
              "      background-color: #3B4455;\n",
              "      fill: #D2E3FC;\n",
              "    }\n",
              "\n",
              "    [theme=dark] .colab-df-convert:hover {\n",
              "      background-color: #434B5C;\n",
              "      box-shadow: 0px 1px 3px 1px rgba(0, 0, 0, 0.15);\n",
              "      filter: drop-shadow(0px 1px 2px rgba(0, 0, 0, 0.3));\n",
              "      fill: #FFFFFF;\n",
              "    }\n",
              "  </style>\n",
              "\n",
              "    <script>\n",
              "      const buttonEl =\n",
              "        document.querySelector('#df-47aa9524-e95e-4061-89d8-7dc58fffc4c3 button.colab-df-convert');\n",
              "      buttonEl.style.display =\n",
              "        google.colab.kernel.accessAllowed ? 'block' : 'none';\n",
              "\n",
              "      async function convertToInteractive(key) {\n",
              "        const element = document.querySelector('#df-47aa9524-e95e-4061-89d8-7dc58fffc4c3');\n",
              "        const dataTable =\n",
              "          await google.colab.kernel.invokeFunction('convertToInteractive',\n",
              "                                                    [key], {});\n",
              "        if (!dataTable) return;\n",
              "\n",
              "        const docLinkHtml = 'Like what you see? Visit the ' +\n",
              "          '<a target=\"_blank\" href=https://colab.research.google.com/notebooks/data_table.ipynb>data table notebook</a>'\n",
              "          + ' to learn more about interactive tables.';\n",
              "        element.innerHTML = '';\n",
              "        dataTable['output_type'] = 'display_data';\n",
              "        await google.colab.output.renderOutput(dataTable, element);\n",
              "        const docLink = document.createElement('div');\n",
              "        docLink.innerHTML = docLinkHtml;\n",
              "        element.appendChild(docLink);\n",
              "      }\n",
              "    </script>\n",
              "  </div>\n",
              "\n",
              "\n",
              "<div id=\"df-a9aa306d-d874-4a45-b8bb-6a71c02b6f29\">\n",
              "  <button class=\"colab-df-quickchart\" onclick=\"quickchart('df-a9aa306d-d874-4a45-b8bb-6a71c02b6f29')\"\n",
              "            title=\"Suggest charts\"\n",
              "            style=\"display:none;\">\n",
              "\n",
              "<svg xmlns=\"http://www.w3.org/2000/svg\" height=\"24px\"viewBox=\"0 0 24 24\"\n",
              "     width=\"24px\">\n",
              "    <g>\n",
              "        <path d=\"M19 3H5c-1.1 0-2 .9-2 2v14c0 1.1.9 2 2 2h14c1.1 0 2-.9 2-2V5c0-1.1-.9-2-2-2zM9 17H7v-7h2v7zm4 0h-2V7h2v10zm4 0h-2v-4h2v4z\"/>\n",
              "    </g>\n",
              "</svg>\n",
              "  </button>\n",
              "\n",
              "<style>\n",
              "  .colab-df-quickchart {\n",
              "      --bg-color: #E8F0FE;\n",
              "      --fill-color: #1967D2;\n",
              "      --hover-bg-color: #E2EBFA;\n",
              "      --hover-fill-color: #174EA6;\n",
              "      --disabled-fill-color: #AAA;\n",
              "      --disabled-bg-color: #DDD;\n",
              "  }\n",
              "\n",
              "  [theme=dark] .colab-df-quickchart {\n",
              "      --bg-color: #3B4455;\n",
              "      --fill-color: #D2E3FC;\n",
              "      --hover-bg-color: #434B5C;\n",
              "      --hover-fill-color: #FFFFFF;\n",
              "      --disabled-bg-color: #3B4455;\n",
              "      --disabled-fill-color: #666;\n",
              "  }\n",
              "\n",
              "  .colab-df-quickchart {\n",
              "    background-color: var(--bg-color);\n",
              "    border: none;\n",
              "    border-radius: 50%;\n",
              "    cursor: pointer;\n",
              "    display: none;\n",
              "    fill: var(--fill-color);\n",
              "    height: 32px;\n",
              "    padding: 0;\n",
              "    width: 32px;\n",
              "  }\n",
              "\n",
              "  .colab-df-quickchart:hover {\n",
              "    background-color: var(--hover-bg-color);\n",
              "    box-shadow: 0 1px 2px rgba(60, 64, 67, 0.3), 0 1px 3px 1px rgba(60, 64, 67, 0.15);\n",
              "    fill: var(--button-hover-fill-color);\n",
              "  }\n",
              "\n",
              "  .colab-df-quickchart-complete:disabled,\n",
              "  .colab-df-quickchart-complete:disabled:hover {\n",
              "    background-color: var(--disabled-bg-color);\n",
              "    fill: var(--disabled-fill-color);\n",
              "    box-shadow: none;\n",
              "  }\n",
              "\n",
              "  .colab-df-spinner {\n",
              "    border: 2px solid var(--fill-color);\n",
              "    border-color: transparent;\n",
              "    border-bottom-color: var(--fill-color);\n",
              "    animation:\n",
              "      spin 1s steps(1) infinite;\n",
              "  }\n",
              "\n",
              "  @keyframes spin {\n",
              "    0% {\n",
              "      border-color: transparent;\n",
              "      border-bottom-color: var(--fill-color);\n",
              "      border-left-color: var(--fill-color);\n",
              "    }\n",
              "    20% {\n",
              "      border-color: transparent;\n",
              "      border-left-color: var(--fill-color);\n",
              "      border-top-color: var(--fill-color);\n",
              "    }\n",
              "    30% {\n",
              "      border-color: transparent;\n",
              "      border-left-color: var(--fill-color);\n",
              "      border-top-color: var(--fill-color);\n",
              "      border-right-color: var(--fill-color);\n",
              "    }\n",
              "    40% {\n",
              "      border-color: transparent;\n",
              "      border-right-color: var(--fill-color);\n",
              "      border-top-color: var(--fill-color);\n",
              "    }\n",
              "    60% {\n",
              "      border-color: transparent;\n",
              "      border-right-color: var(--fill-color);\n",
              "    }\n",
              "    80% {\n",
              "      border-color: transparent;\n",
              "      border-right-color: var(--fill-color);\n",
              "      border-bottom-color: var(--fill-color);\n",
              "    }\n",
              "    90% {\n",
              "      border-color: transparent;\n",
              "      border-bottom-color: var(--fill-color);\n",
              "    }\n",
              "  }\n",
              "</style>\n",
              "\n",
              "  <script>\n",
              "    async function quickchart(key) {\n",
              "      const quickchartButtonEl =\n",
              "        document.querySelector('#' + key + ' button');\n",
              "      quickchartButtonEl.disabled = true;  // To prevent multiple clicks.\n",
              "      quickchartButtonEl.classList.add('colab-df-spinner');\n",
              "      try {\n",
              "        const charts = await google.colab.kernel.invokeFunction(\n",
              "            'suggestCharts', [key], {});\n",
              "      } catch (error) {\n",
              "        console.error('Error during call to suggestCharts:', error);\n",
              "      }\n",
              "      quickchartButtonEl.classList.remove('colab-df-spinner');\n",
              "      quickchartButtonEl.classList.add('colab-df-quickchart-complete');\n",
              "    }\n",
              "    (() => {\n",
              "      let quickchartButtonEl =\n",
              "        document.querySelector('#df-a9aa306d-d874-4a45-b8bb-6a71c02b6f29 button');\n",
              "      quickchartButtonEl.style.display =\n",
              "        google.colab.kernel.accessAllowed ? 'block' : 'none';\n",
              "    })();\n",
              "  </script>\n",
              "</div>\n",
              "    </div>\n",
              "  </div>\n"
            ]
          },
          "metadata": {},
          "execution_count": 4
        }
      ]
    },
    {
      "cell_type": "code",
      "source": [
        "# load nltk's English stopwords as variable called 'stopwords'\n",
        "sms['message'] = sms['message'].apply(lambda x: x.translate(str.maketrans('', '', string.punctuation))) # Removing Puctuation\n",
        "stopwords = nltk.corpus.stopwords.words('english')\n",
        "more_stopwords = ['u', 'm', 'c', 'ur', 'dont', 'doin', 'ure', 'im', 'ure', 'n',\"'\",\"i'm\", \"r\", \"v\", \"ill\"]\n",
        "stop_words = stopwords + more_stopwords"
      ],
      "metadata": {
        "id": "G9TXz7co4q9b"
      },
      "execution_count": 5,
      "outputs": []
    },
    {
      "cell_type": "code",
      "source": [
        "# load nltk's SnowballStemmer as variabled 'stemmer'\n",
        "from nltk.stem.snowball import SnowballStemmer\n",
        "stemmer = SnowballStemmer(\"english\")"
      ],
      "metadata": {
        "id": "X3n3c0eF4ywS"
      },
      "execution_count": 6,
      "outputs": []
    },
    {
      "cell_type": "code",
      "source": [
        "# here I define a tokenizer and stemmer which returns the set of stems in the text that it is passed\n",
        "\n",
        "def tokenize_and_stem(text):\n",
        "    # first tokenize by sentence, then by word to ensure that punctuation is caught as it's own token\n",
        "    tokens = [word for sent in nltk.sent_tokenize(text) for word in nltk.word_tokenize(sent)]\n",
        "    filtered_tokens = []\n",
        "    # filter out any tokens not containing letters (e.g., numeric tokens, raw punctuation)\n",
        "    for token in tokens:\n",
        "        if re.search('[a-zA-Z]', token):\n",
        "            filtered_tokens.append(token)\n",
        "    stems = [stemmer.stem(t) for t in filtered_tokens]\n",
        "    return stems\n",
        "\n",
        "\n",
        "def tokenize_only(text):\n",
        "    # first tokenize by sentence, then by word to ensure that punctuation is caught as it's own token\n",
        "    tokens = [word.lower() for sent in nltk.sent_tokenize(text) for word in nltk.word_tokenize(sent)]\n",
        "    filtered_tokens = []\n",
        "    # filter out any tokens not containing letters (e.g., numeric tokens, raw punctuation)\n",
        "    for token in tokens:\n",
        "        if re.search('[a-zA-Z]', token):\n",
        "            filtered_tokens.append(token)\n",
        "    return filtered_tokens"
      ],
      "metadata": {
        "id": "lgqxkFt842Qr"
      },
      "execution_count": 7,
      "outputs": []
    },
    {
      "cell_type": "code",
      "source": [
        "#not super pythonic, no, not at all.\n",
        "#use extend so it's a big flat list of vocab\n",
        "totalvocab_stemmed = []\n",
        "totalvocab_tokenized = []\n",
        "for i in sms['message']:\n",
        "    allwords_stemmed = tokenize_and_stem(i) #for each item in 'messages', tokenize/stem\n",
        "    totalvocab_stemmed.extend(allwords_stemmed) #extend the 'totalvocab_stemmed' list\n",
        "\n",
        "    allwords_tokenized = tokenize_only(i)\n",
        "    totalvocab_tokenized.extend(allwords_tokenized)"
      ],
      "metadata": {
        "id": "V3FTspiQ47m2"
      },
      "execution_count": 8,
      "outputs": []
    },
    {
      "cell_type": "code",
      "source": [
        "vocab_frame = pd.DataFrame({'words': totalvocab_tokenized}, index = totalvocab_stemmed)\n",
        "print('there are ' + str(vocab_frame.shape[0]) + ' items in vocab_frame')"
      ],
      "metadata": {
        "colab": {
          "base_uri": "https://localhost:8080/"
        },
        "id": "3hxim9wD5TZ5",
        "outputId": "cbd80caa-7f46-417d-d61f-b7672e3c3694"
      },
      "execution_count": 9,
      "outputs": [
        {
          "output_type": "stream",
          "name": "stdout",
          "text": [
            "there are 82453 items in vocab_frame\n"
          ]
        }
      ]
    },
    {
      "cell_type": "code",
      "source": [
        "from sklearn.feature_extraction.text import TfidfVectorizer\n",
        "\n",
        "#define vectorizer parameters\n",
        "tfidf_vectorizer = TfidfVectorizer(max_df=0.4,\n",
        "                                 min_df=2, stop_words=stop_words,\n",
        "                                 use_idf=True, tokenizer=tokenize_and_stem, ngram_range=(1,2))\n",
        "\n",
        "tfidf_matrix = tfidf_vectorizer.fit_transform(sms['message']) #fit the vectorizer to messages\n",
        "\n",
        "print(tfidf_matrix.shape)"
      ],
      "metadata": {
        "colab": {
          "base_uri": "https://localhost:8080/"
        },
        "id": "j2JI1Lwd5dRP",
        "outputId": "0bb94b48-34d2-4fbf-d3bb-bab8d3e8bc34"
      },
      "execution_count": 10,
      "outputs": [
        {
          "output_type": "stream",
          "name": "stderr",
          "text": [
            "/usr/local/lib/python3.10/dist-packages/sklearn/feature_extraction/text.py:528: UserWarning: The parameter 'token_pattern' will not be used since 'tokenizer' is not None'\n",
            "  warnings.warn(\n",
            "/usr/local/lib/python3.10/dist-packages/sklearn/feature_extraction/text.py:409: UserWarning: Your stop_words may be inconsistent with your preprocessing. Tokenizing the stop words generated tokens [\"'d\", \"'m\", \"'s\", 'abov', 'ani', 'becaus', 'befor', 'could', 'doe', 'dure', 'might', 'must', \"n't\", 'need', 'onc', 'onli', 'ourselv', 'sha', 'themselv', 'veri', 'whi', 'wo', 'would', 'yourselv'] not in stop_words.\n",
            "  warnings.warn(\n"
          ]
        },
        {
          "output_type": "stream",
          "name": "stdout",
          "text": [
            "(5572, 8862)\n"
          ]
        }
      ]
    },
    {
      "cell_type": "code",
      "source": [
        "terms = tfidf_vectorizer.get_feature_names_out()"
      ],
      "metadata": {
        "id": "yvyb3boFCDei"
      },
      "execution_count": 11,
      "outputs": []
    },
    {
      "cell_type": "code",
      "source": [
        "from sklearn.metrics.pairwise import cosine_similarity\n",
        "dist = 1 - cosine_similarity(tfidf_matrix)"
      ],
      "metadata": {
        "id": "6WDKE8mn5_Wf"
      },
      "execution_count": 12,
      "outputs": []
    },
    {
      "cell_type": "code",
      "source": [
        "from sklearn.cluster import KMeans\n",
        "from sklearn.metrics import silhouette_score\n",
        "\n",
        "num_clusters = 30\n",
        "\n",
        "km = KMeans(n_clusters=num_clusters)\n",
        "\n",
        "%time km.fit(tfidf_matrix)\n",
        "\n",
        "clusters = km.labels_.tolist()"
      ],
      "metadata": {
        "colab": {
          "base_uri": "https://localhost:8080/"
        },
        "id": "6Nmes81L6GNH",
        "outputId": "4e97992d-028b-4baf-9200-3d59c38b60d0"
      },
      "execution_count": 13,
      "outputs": [
        {
          "output_type": "stream",
          "name": "stderr",
          "text": [
            "/usr/local/lib/python3.10/dist-packages/sklearn/cluster/_kmeans.py:870: FutureWarning: The default value of `n_init` will change from 10 to 'auto' in 1.4. Set the value of `n_init` explicitly to suppress the warning\n",
            "  warnings.warn(\n"
          ]
        },
        {
          "output_type": "stream",
          "name": "stdout",
          "text": [
            "CPU times: user 3.85 s, sys: 31.5 ms, total: 3.88 s\n",
            "Wall time: 5.85 s\n"
          ]
        }
      ]
    },
    {
      "cell_type": "code",
      "source": [
        "clusters = km.labels_.tolist()"
      ],
      "metadata": {
        "id": "XVnyO5bv61nf"
      },
      "execution_count": 14,
      "outputs": []
    },
    {
      "cell_type": "code",
      "source": [
        "messages = {'message': sms['message'], 'cluster': clusters}\n",
        "\n",
        "frame = pd.DataFrame(messages, columns = ['message','cluster'])"
      ],
      "metadata": {
        "id": "y0lBa48T7Hma"
      },
      "execution_count": 15,
      "outputs": []
    },
    {
      "cell_type": "code",
      "source": [
        "message_counts = frame['cluster'].value_counts()"
      ],
      "metadata": {
        "id": "Tz94ugd17eLV"
      },
      "execution_count": 16,
      "outputs": []
    },
    {
      "cell_type": "code",
      "source": [
        "message_counts"
      ],
      "metadata": {
        "colab": {
          "base_uri": "https://localhost:8080/"
        },
        "id": "o6XPjtUW8inH",
        "outputId": "ee983eea-a32d-4240-da49-0932fa8e7d82"
      },
      "execution_count": 17,
      "outputs": [
        {
          "output_type": "execute_result",
          "data": {
            "text/plain": [
              "3     1890\n",
              "6      256\n",
              "16     238\n",
              "13     213\n",
              "2      209\n",
              "10     191\n",
              "5      179\n",
              "8      177\n",
              "9      176\n",
              "14     171\n",
              "15     153\n",
              "27     145\n",
              "4      135\n",
              "21     129\n",
              "7      119\n",
              "24     118\n",
              "1      109\n",
              "25     102\n",
              "19      96\n",
              "12      96\n",
              "17      84\n",
              "18      84\n",
              "29      78\n",
              "0       75\n",
              "22      67\n",
              "26      65\n",
              "28      64\n",
              "23      61\n",
              "11      47\n",
              "20      45\n",
              "Name: cluster, dtype: int64"
            ]
          },
          "metadata": {},
          "execution_count": 17
        }
      ]
    },
    {
      "cell_type": "code",
      "source": [
        "silhouette_avg = silhouette_score(tfidf_matrix, clusters)\n",
        "silhouette_avg"
      ],
      "metadata": {
        "colab": {
          "base_uri": "https://localhost:8080/"
        },
        "id": "seh5TWUh93oI",
        "outputId": "5a67bc8e-1e26-4ab7-fe4b-a4383a21eda1"
      },
      "execution_count": 18,
      "outputs": [
        {
          "output_type": "execute_result",
          "data": {
            "text/plain": [
              "0.019834074060624957"
            ]
          },
          "metadata": {},
          "execution_count": 18
        }
      ]
    },
    {
      "cell_type": "code",
      "source": [
        "from __future__ import print_function\n",
        "\n",
        "print(\"Top terms per cluster:\")\n",
        "print()\n",
        "# Sort cluster centers by proximity to centroid\n",
        "order_centroids = km.cluster_centers_.argsort()[:, ::-1]\n",
        "\n",
        "for i in range(num_clusters):\n",
        "    print(\"Cluster %d words: \" % i, end='')\n",
        "\n",
        "    # Collect terms without 'b' prefix in a list\n",
        "    cluster_terms = []\n",
        "    for ind in order_centroids[i, :6]:  # Replace 6 with the desired number of words per cluster\n",
        "        term = vocab_frame.loc[terms[ind].split(' ')].values.tolist()[0][0]\n",
        "        cluster_terms.append(term)\n",
        "\n",
        "    # Print the terms without 'b' prefix\n",
        "    print(', '.join(cluster_terms))\n",
        "    print()  # add whitespace\n",
        "    print()  # add whitespace\n",
        "\n",
        "print()\n",
        "print()\n"
      ],
      "metadata": {
        "colab": {
          "base_uri": "https://localhost:8080/"
        },
        "id": "nwHFG7TYAEFp",
        "outputId": "4fc810fc-0111-4522-c5c9-97b01419595d"
      },
      "execution_count": 19,
      "outputs": [
        {
          "output_type": "stream",
          "name": "stdout",
          "text": [
            "Top terms per cluster:\n",
            "\n",
            "Cluster 0 words: way, any, way, text, home, any\n",
            "\n",
            "\n",
            "Cluster 1 words: ok, ok, ok, thanx, prob, yup\n",
            "\n",
            "\n",
            "Cluster 2 words: one, need, say, leaving, got, ok\n",
            "\n",
            "\n",
            "Cluster 3 words: got, still, wat, good, da, lol\n",
            "\n",
            "\n",
            "Cluster 4 words: ltgt, like, like, ltgt, minute, say\n",
            "\n",
            "\n",
            "Cluster 5 words: call, account, private, statement, private, identifier\n",
            "\n",
            "\n",
            "Cluster 6 words: getting, times, text, back, wat, sure\n",
            "\n",
            "\n",
            "Cluster 7 words: great, think, princess, great, day, wishes\n",
            "\n",
            "\n",
            "Cluster 8 words: free, text, call, nokia, reply, mobile\n",
            "\n",
            "\n",
            "Cluster 9 words: love, good, day, miss, kisses, babe\n",
            "\n",
            "\n",
            "Cluster 10 words: come, come, home, times, want, tomorrow\n",
            "\n",
            "\n",
            "Cluster 11 words: call, later, sorry, sorry, call, meet\n",
            "\n",
            "\n",
            "Cluster 12 words: na, gon, gon, wan, wan, getting\n",
            "\n",
            "\n",
            "Cluster 13 words: see, much, hi, thank, night, good\n",
            "\n",
            "\n",
            "Cluster 14 words: knows, let, let, lem, lem, want\n",
            "\n",
            "\n",
            "Cluster 15 words: pls, pick, send, right, pls, cant\n",
            "\n",
            "\n",
            "Cluster 16 words: go, want, want, got, go, sleeping\n",
            "\n",
            "\n",
            "Cluster 17 words: happy, new, year, new, happy, happy\n",
            "\n",
            "\n",
            "Cluster 18 words: oh, oh, oh, k, really, ok\n",
            "\n",
            "\n",
            "Cluster 19 words: numbers, receive, awarded, today, claim, selected\n",
            "\n",
            "\n",
            "Cluster 20 words: look, make, admirer, secret, secret, admirer\n",
            "\n",
            "\n",
            "Cluster 21 words: work, please, please, call, customer, customer\n",
            "\n",
            "\n",
            "Cluster 22 words: next, mins, ltgt, ltgt, next, weeks\n",
            "\n",
            "\n",
            "Cluster 23 words: prize, claim, call, urgent, guaranteed, contact\n",
            "\n",
            "\n",
            "Cluster 24 words: lor, ok, ok, go, anything, wat\n",
            "\n",
            "\n",
            "Cluster 25 words: message, sent, email, ive, ive, k\n",
            "\n",
            "\n",
            "Cluster 26 words: watching, tv, watching, movie, lor, wan\n",
            "\n",
            "\n",
            "Cluster 27 words: like, would, feel, look, feel, like\n",
            "\n",
            "\n",
            "Cluster 28 words: care, take, take, well, good, good\n",
            "\n",
            "\n",
            "Cluster 29 words: home, reached, reached, go, go, back\n",
            "\n",
            "\n",
            "\n",
            "\n"
          ]
        }
      ]
    },
    {
      "cell_type": "code",
      "source": [
        "from scipy.cluster.hierarchy import ward, dendrogram, fcluster\n",
        "import scipy.cluster.hierarchy as sch\n",
        "\n",
        "linkage_matrix = ward(dist) #define the linkage_matrix using ward clustering pre-computed distances\n",
        "hclusters = fcluster(linkage_matrix, t=13.5, criterion='distance');\n",
        "dendrogram = sch.dendrogram(linkage_matrix)\n",
        "plt.show()"
      ],
      "metadata": {
        "colab": {
          "base_uri": "https://localhost:8080/",
          "height": 448
        },
        "id": "bv0DyFXUQHNS",
        "outputId": "1ce45c40-71ab-4783-ffa2-e0e703c60b55"
      },
      "execution_count": 27,
      "outputs": [
        {
          "output_type": "display_data",
          "data": {
            "text/plain": [
              "<Figure size 640x480 with 1 Axes>"
            ],
            "image/png": "[encoded data removed]"
          },
          "metadata": {}
        }
      ]
    },
    {
      "cell_type": "code",
      "source": [
        "# Create a DataFrame with document and cluster labels\n",
        "df_clusters = pd.DataFrame({'sms': sms['message'], 'cluster': hclusters})\n",
        "\n",
        "# Analyze each cluster and find the top 5 words\n",
        "for cluster_num in range(1, max(hclusters) + 1):\n",
        "    # Filter data for the current cluster\n",
        "    cluster_data = df_clusters[df_clusters['cluster'] == cluster_num]\n",
        "\n",
        "    # Compute TF-IDF for the cluster\n",
        "    cluster_tfidf_matrix = tfidf_vectorizer.transform(cluster_data['sms'])\n",
        "\n",
        "    # Sum the TF-IDF scores for each term in the cluster\n",
        "    term_sum = cluster_tfidf_matrix.sum(axis=0)\n",
        "\n",
        "    # Get the indices of the top 5 terms\n",
        "    top_term_indices = term_sum.argsort()[0, -5:]\n",
        "\n",
        "    # Get the feature names (terms) from the TF-IDF vectorizer\n",
        "    feature_names = tfidf_vectorizer.get_feature_names_out()\n",
        "\n",
        "    # Get the top 5 terms\n",
        "    top_terms = [str(feature_names[index]) for index in top_term_indices]\n",
        "\n",
        "    # Count of messages in the cluster\n",
        "    message_count = len(cluster_data)\n",
        "\n",
        "    # Print the results for each cluster\n",
        "    print(f\"\\nCluster {cluster_num}:\")\n",
        "    print(f\"  Top 5 terms: {', '.join(top_terms)}\")\n",
        "    print(f\"  Message count: {message_count}\")"
      ],
      "metadata": {
        "colab": {
          "base_uri": "https://localhost:8080/"
        },
        "id": "gUkAteZ7TcBe",
        "outputId": "93922fc2-8ad7-443c-cd44-5646101fed62"
      },
      "execution_count": 28,
      "outputs": [
        {
          "output_type": "stream",
          "name": "stdout",
          "text": [
            "\n",
            "Cluster 1:\n",
            "  Top 5 terms: [['call' 'sorri' 'later' 'sorri call' 'call later']]\n",
            "  Message count: 45\n",
            "\n",
            "Cluster 2:\n",
            "  Top 5 terms: [['show unredeem' 'privat' 'statement' 'privat account'\n",
            "  'account statement']]\n",
            "  Message count: 17\n",
            "\n",
            "Cluster 3:\n",
            "  Top 5 terms: [['valid' 'prize' 'guarante' 'guarante call' 'prize guarante']]\n",
            "  Message count: 22\n",
            "\n",
            "Cluster 4:\n",
            "  Top 5 terms: [['claim' 'prize' 'pleas' 'pleas call' 'call']]\n",
            "  Message count: 276\n",
            "\n",
            "Cluster 5:\n",
            "  Top 5 terms: [['like' 'like ltgt' 'min' 'ltgt min' 'ltgt']]\n",
            "  Message count: 138\n",
            "\n",
            "Cluster 6:\n",
            "  Top 5 terms: [['stop' 'repli' 'txt' 'week' 'free']]\n",
            "  Message count: 248\n",
            "\n",
            "Cluster 7:\n",
            "  Top 5 terms: [['happi' 'happi new' 'year' 'new year' 'new']]\n",
            "  Message count: 35\n",
            "\n",
            "Cluster 8:\n",
            "  Top 5 terms: [['think' 'would like' 'would' 'feel' 'like']]\n",
            "  Message count: 84\n",
            "\n",
            "Cluster 9:\n",
            "  Top 5 terms: [['shall' 'time get' 'didnt get' 'time' 'get']]\n",
            "  Message count: 97\n",
            "\n",
            "Cluster 10:\n",
            "  Top 5 terms: [['time' 'think' 'well' 'love' 'good']]\n",
            "  Message count: 530\n",
            "\n",
            "Cluster 11:\n",
            "  Top 5 terms: [['stori' 'ta' 'got ta' 'person stori' 'got']]\n",
            "  Message count: 81\n",
            "\n",
            "Cluster 12:\n",
            "  Top 5 terms: [['thought' 'tomo' 'see bit' 'bit' 'see']]\n",
            "  Message count: 47\n",
            "\n",
            "Cluster 13:\n",
            "  Top 5 terms: [['one' 'need' 'go' 'want' 'get']]\n",
            "  Message count: 2936\n",
            "\n",
            "Cluster 14:\n",
            "  Top 5 terms: [['project' 'check da' 'offic' 'sorri da' 'da']]\n",
            "  Message count: 56\n",
            "\n",
            "Cluster 15:\n",
            "  Top 5 terms: [['sorri cant' 'cant help' 'help' 'later' 'sorri']]\n",
            "  Message count: 91\n",
            "\n",
            "Cluster 16:\n",
            "  Top 5 terms: [['send messag' 'pick phone' 'cant pick' 'phone right' 'right pls']]\n",
            "  Message count: 12\n",
            "\n",
            "Cluster 17:\n",
            "  Top 5 terms: [['lem' 'lem know' 'let' 'let know' 'know']]\n",
            "  Message count: 118\n",
            "\n",
            "Cluster 18:\n",
            "  Top 5 terms: [['wan' 'wan na' 'gon' 'gon na' 'na']]\n",
            "  Message count: 90\n",
            "\n",
            "Cluster 19:\n",
            "  Top 5 terms: [['want come' 'time come' 'tomorrow' 'time' 'come']]\n",
            "  Message count: 85\n",
            "\n",
            "Cluster 20:\n",
            "  Top 5 terms: [['reach home' 'come' 'come home' 'reach' 'home']]\n",
            "  Message count: 77\n",
            "\n",
            "Cluster 21:\n",
            "  Top 5 terms: [['time wan' 'wan' 'time' 'wat time' 'wat']]\n",
            "  Message count: 49\n",
            "\n",
            "Cluster 22:\n",
            "  Top 5 terms: [['want go' 'movi' 'watch' 'lor' 'go']]\n",
            "  Message count: 220\n",
            "\n",
            "Cluster 23:\n",
            "  Top 5 terms: [['get laid' 'get later' 'get good' 'ìll' 'ok']]\n",
            "  Message count: 22\n",
            "\n",
            "Cluster 24:\n",
            "  Top 5 terms: [['ask' 'go' 'lor' 'ok lor' 'ok']]\n",
            "  Message count: 196\n"
          ]
        }
      ]
    },
    {
      "cell_type": "code",
      "source": [
        "hsilhouette_avg = silhouette_score(tfidf_matrix, hclusters)\n",
        "print(f\"\\nSilhouette Score for the Hierarchical Clustering: {hsilhouette_avg}\")"
      ],
      "metadata": {
        "colab": {
          "base_uri": "https://localhost:8080/"
        },
        "id": "06KuRrxTXG7v",
        "outputId": "75c170ed-bc82-4e8b-fbf3-2da1ed29ab2f"
      },
      "execution_count": 32,
      "outputs": [
        {
          "output_type": "stream",
          "name": "stdout",
          "text": [
            "\n",
            "Silhouette Score for the Hierarchical Clustering: 0.009985645114639053\n"
          ]
        }
      ]
    }
  ]
}